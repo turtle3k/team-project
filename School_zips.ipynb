{
 "cells": [
  {
   "cell_type": "code",
   "execution_count": 6,
   "metadata": {},
   "outputs": [],
   "source": [
    "# Dependencies\n",
    "import csv\n",
    "import requests\n",
    "import pandas as pd\n",
    "import json\n",
    "from thconfig import gkey"
   ]
  },
  {
   "cell_type": "code",
   "execution_count": 7,
   "metadata": {},
   "outputs": [],
   "source": [
    "# Save config information\n",
    "# https://maps.googleapis.com/maps/api/geocode/json?key=YOUR_API_KEY&components=postal_code:97403\n",
    "# setup the zip variable and give it a value to test with\n",
    "url = \"https://maps.googleapis.com/maps/api/geocode/json?\"  \n",
    "zip = 63123\n",
    "\n",
    "# build the query URL\n",
    "query_url = f\"{url}key={gkey}&components=postal_code:\""
   ]
  },
  {
   "cell_type": "code",
   "execution_count": 9,
   "metadata": {},
   "outputs": [
    {
     "name": "stdout",
     "output_type": "stream",
     "text": [
      "{\n",
      "    \"results\": [\n",
      "        {\n",
      "            \"address_components\": [\n",
      "                {\n",
      "                    \"long_name\": \"63123\",\n",
      "                    \"short_name\": \"63123\",\n",
      "                    \"types\": [\n",
      "                        \"postal_code\"\n",
      "                    ]\n",
      "                },\n",
      "                {\n",
      "                    \"long_name\": \"St. Louis\",\n",
      "                    \"short_name\": \"St. Louis\",\n",
      "                    \"types\": [\n",
      "                        \"locality\",\n",
      "                        \"political\"\n",
      "                    ]\n",
      "                },\n",
      "                {\n",
      "                    \"long_name\": \"Missouri\",\n",
      "                    \"short_name\": \"MO\",\n",
      "                    \"types\": [\n",
      "                        \"administrative_area_level_1\",\n",
      "                        \"political\"\n",
      "                    ]\n",
      "                },\n",
      "                {\n",
      "                    \"long_name\": \"United States\",\n",
      "                    \"short_name\": \"US\",\n",
      "                    \"types\": [\n",
      "                        \"country\",\n",
      "                        \"political\"\n",
      "                    ]\n",
      "                }\n",
      "            ],\n",
      "            \"formatted_address\": \"St. Louis, MO 63123, USA\",\n",
      "            \"geometry\": {\n",
      "                \"bounds\": {\n",
      "                    \"northeast\": {\n",
      "                        \"lat\": 38.5868159,\n",
      "                        \"lng\": -90.2704979\n",
      "                    },\n",
      "                    \"southwest\": {\n",
      "                        \"lat\": 38.503502,\n",
      "                        \"lng\": -90.3690829\n",
      "                    }\n",
      "                },\n",
      "                \"location\": {\n",
      "                    \"lat\": 38.5580845,\n",
      "                    \"lng\": -90.3277829\n",
      "                },\n",
      "                \"location_type\": \"APPROXIMATE\",\n",
      "                \"viewport\": {\n",
      "                    \"northeast\": {\n",
      "                        \"lat\": 38.5868159,\n",
      "                        \"lng\": -90.2704979\n",
      "                    },\n",
      "                    \"southwest\": {\n",
      "                        \"lat\": 38.503502,\n",
      "                        \"lng\": -90.3690829\n",
      "                    }\n",
      "                }\n",
      "            },\n",
      "            \"place_id\": \"ChIJV_inapXJ2IcR6rkqvo5uUyg\",\n",
      "            \"postcode_localities\": [\n",
      "                \"Affton\",\n",
      "                \"St. Louis\"\n",
      "            ],\n",
      "            \"types\": [\n",
      "                \"postal_code\"\n",
      "            ]\n",
      "        }\n",
      "    ],\n",
      "    \"status\": \"OK\"\n",
      "}\n"
     ]
    }
   ],
   "source": [
    "# Run a test with the given zip and print the response so we know what data to pull out\n",
    "response = requests.get(query_url + str(zip)).json()\n",
    "\n",
    "print(json.dumps(response, indent=4, sort_keys=True))"
   ]
  },
  {
   "cell_type": "code",
   "execution_count": 10,
   "metadata": {},
   "outputs": [
    {
     "data": {
      "text/html": [
       "<div>\n",
       "<style scoped>\n",
       "    .dataframe tbody tr th:only-of-type {\n",
       "        vertical-align: middle;\n",
       "    }\n",
       "\n",
       "    .dataframe tbody tr th {\n",
       "        vertical-align: top;\n",
       "    }\n",
       "\n",
       "    .dataframe thead th {\n",
       "        text-align: right;\n",
       "    }\n",
       "</style>\n",
       "<table border=\"1\" class=\"dataframe\">\n",
       "  <thead>\n",
       "    <tr style=\"text-align: right;\">\n",
       "      <th></th>\n",
       "      <th>Zip Codes</th>\n",
       "      <th>Target City</th>\n",
       "    </tr>\n",
       "  </thead>\n",
       "  <tbody>\n",
       "    <tr>\n",
       "      <th>0</th>\n",
       "      <td>63123</td>\n",
       "      <td>Affton</td>\n",
       "    </tr>\n",
       "    <tr>\n",
       "      <th>1</th>\n",
       "      <td>63021</td>\n",
       "      <td>Ballwin</td>\n",
       "    </tr>\n",
       "    <tr>\n",
       "      <th>2</th>\n",
       "      <td>63137</td>\n",
       "      <td>Bellefontaine Neighbors</td>\n",
       "    </tr>\n",
       "    <tr>\n",
       "      <th>3</th>\n",
       "      <td>63134</td>\n",
       "      <td>Berkeley</td>\n",
       "    </tr>\n",
       "    <tr>\n",
       "      <th>4</th>\n",
       "      <td>63144</td>\n",
       "      <td>Brentwood</td>\n",
       "    </tr>\n",
       "  </tbody>\n",
       "</table>\n",
       "</div>"
      ],
      "text/plain": [
       "   Zip Codes              Target City\n",
       "0      63123                   Affton\n",
       "1      63021                  Ballwin\n",
       "2      63137  Bellefontaine Neighbors\n",
       "3      63134                 Berkeley\n",
       "4      63144                Brentwood"
      ]
     },
     "execution_count": 10,
     "metadata": {},
     "output_type": "execute_result"
    }
   ],
   "source": [
    "# import the Zip Codes for all the Cities we want from a csv and put them in a DF\n",
    "zips_df = pd.read_csv(\"school_zipcode_data.csv\")\n",
    "zips_df.head()"
   ]
  },
  {
   "cell_type": "code",
   "execution_count": 11,
   "metadata": {},
   "outputs": [],
   "source": [
    "# Set up lists to hold response info\n",
    "lat = []\n",
    "lng = []\n",
    "\n",
    "# Loop through the list of cities and perform a request for lat,lng data on each by using zip code info\n",
    "for zip in zips_df[\"Zip Codes\"]:\n",
    "    response = requests.get(query_url + str(zip)).json()\n",
    "    lat.append(response['results'][0]['geometry']['location']['lat'])\n",
    "    lng.append(response['results'][0]['geometry']['location']['lng'])"
   ]
  },
  {
   "cell_type": "code",
   "execution_count": 13,
   "metadata": {},
   "outputs": [],
   "source": [
    "# Add the columns to the dataframe\n",
    "zips_df['Latitude'] = lat\n",
    "zips_df['Longitude'] = lng"
   ]
  },
  {
   "cell_type": "code",
   "execution_count": 14,
   "metadata": {},
   "outputs": [
    {
     "data": {
      "text/html": [
       "<div>\n",
       "<style scoped>\n",
       "    .dataframe tbody tr th:only-of-type {\n",
       "        vertical-align: middle;\n",
       "    }\n",
       "\n",
       "    .dataframe tbody tr th {\n",
       "        vertical-align: top;\n",
       "    }\n",
       "\n",
       "    .dataframe thead th {\n",
       "        text-align: right;\n",
       "    }\n",
       "</style>\n",
       "<table border=\"1\" class=\"dataframe\">\n",
       "  <thead>\n",
       "    <tr style=\"text-align: right;\">\n",
       "      <th></th>\n",
       "      <th>Zip Codes</th>\n",
       "      <th>Target City</th>\n",
       "      <th>Latitude</th>\n",
       "      <th>Longitude</th>\n",
       "    </tr>\n",
       "  </thead>\n",
       "  <tbody>\n",
       "    <tr>\n",
       "      <th>0</th>\n",
       "      <td>63123</td>\n",
       "      <td>Affton</td>\n",
       "      <td>38.558084</td>\n",
       "      <td>-90.327783</td>\n",
       "    </tr>\n",
       "    <tr>\n",
       "      <th>1</th>\n",
       "      <td>63021</td>\n",
       "      <td>Ballwin</td>\n",
       "      <td>38.557323</td>\n",
       "      <td>-90.535236</td>\n",
       "    </tr>\n",
       "    <tr>\n",
       "      <th>2</th>\n",
       "      <td>63137</td>\n",
       "      <td>Bellefontaine Neighbors</td>\n",
       "      <td>38.747943</td>\n",
       "      <td>-90.211357</td>\n",
       "    </tr>\n",
       "    <tr>\n",
       "      <th>3</th>\n",
       "      <td>63134</td>\n",
       "      <td>Berkeley</td>\n",
       "      <td>38.741557</td>\n",
       "      <td>-90.341893</td>\n",
       "    </tr>\n",
       "    <tr>\n",
       "      <th>4</th>\n",
       "      <td>63144</td>\n",
       "      <td>Brentwood</td>\n",
       "      <td>38.615747</td>\n",
       "      <td>-90.351302</td>\n",
       "    </tr>\n",
       "  </tbody>\n",
       "</table>\n",
       "</div>"
      ],
      "text/plain": [
       "   Zip Codes              Target City   Latitude  Longitude\n",
       "0      63123                   Affton  38.558084 -90.327783\n",
       "1      63021                  Ballwin  38.557323 -90.535236\n",
       "2      63137  Bellefontaine Neighbors  38.747943 -90.211357\n",
       "3      63134                 Berkeley  38.741557 -90.341893\n",
       "4      63144                Brentwood  38.615747 -90.351302"
      ]
     },
     "execution_count": 14,
     "metadata": {},
     "output_type": "execute_result"
    }
   ],
   "source": [
    "zips_df.head()"
   ]
  },
  {
   "cell_type": "code",
   "execution_count": 17,
   "metadata": {},
   "outputs": [],
   "source": [
    "# Print the DF with lat and Lng for our Cities to a CSV file\n",
    "zips_df.to_csv('Data\\school_zip_lat_long.csv', index = None, header=True, encoding='utf-8')"
   ]
  },
  {
   "cell_type": "code",
   "execution_count": null,
   "metadata": {},
   "outputs": [],
   "source": []
  },
  {
   "cell_type": "code",
   "execution_count": null,
   "metadata": {},
   "outputs": [],
   "source": []
  }
 ],
 "metadata": {
  "kernelspec": {
   "display_name": "Python [conda env:pandas] *",
   "language": "python",
   "name": "conda-env-pandas-py"
  },
  "language_info": {
   "codemirror_mode": {
    "name": "ipython",
    "version": 3
   },
   "file_extension": ".py",
   "mimetype": "text/x-python",
   "name": "python",
   "nbconvert_exporter": "python",
   "pygments_lexer": "ipython3",
   "version": "3.6.9"
  }
 },
 "nbformat": 4,
 "nbformat_minor": 2
}
